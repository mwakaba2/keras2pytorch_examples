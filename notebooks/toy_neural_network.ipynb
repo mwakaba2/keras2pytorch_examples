{
 "cells": [
  {
   "cell_type": "code",
   "execution_count": 1,
   "metadata": {},
   "outputs": [],
   "source": [
    "import numpy as np"
   ]
  },
  {
   "cell_type": "code",
   "execution_count": 94,
   "metadata": {},
   "outputs": [],
   "source": [
    "def sigmoid(x, deriv=False):\n",
    "    if deriv == True:\n",
    "        return x * (1 - x)\n",
    "    return 1 / (1 + np.exp(-x))"
   ]
  },
  {
   "cell_type": "code",
   "execution_count": 114,
   "metadata": {},
   "outputs": [],
   "source": [
    "# aka learning rate\n",
    "alphas = [0.001,0.01,0.1,1,10,100,1000]\n",
    "hidden_size = 32\n",
    "\n",
    "# input dataset\n",
    "X = np.array([[0, 0, 1],\n",
    "              [0, 1, 1],\n",
    "              [1, 0, 1],\n",
    "              [1, 1, 1],])\n",
    "# output dataset\n",
    "y = np.array([[0, 1, 1, 0]]).T"
   ]
  },
  {
   "cell_type": "code",
   "execution_count": 115,
   "metadata": {},
   "outputs": [
    {
     "name": "stdout",
     "output_type": "stream",
     "text": [
      "Training With Alpha: 0.001\n",
      "Error after 0 iterations: 0.49643992250078794\n",
      "Error after 10000 iterations: 0.4910494681290495\n",
      "Error after 20000 iterations: 0.48497630702745964\n",
      "Error after 30000 iterations: 0.4778306787926556\n",
      "Error after 40000 iterations: 0.4690384653902825\n",
      "Error after 50000 iterations: 0.458029258565275\n",
      "Training With Alpha: 0.01\n",
      "Error after 0 iterations: 0.49643992250078794\n",
      "Error after 10000 iterations: 0.3563790616480214\n",
      "Error after 20000 iterations: 0.14693984546476\n",
      "Error after 30000 iterations: 0.0880156127415876\n",
      "Error after 40000 iterations: 0.06514781927504909\n",
      "Error after 50000 iterations: 0.05296580870256972\n",
      "Training With Alpha: 0.1\n",
      "Error after 0 iterations: 0.49643992250078794\n",
      "Error after 10000 iterations: 0.030540490838555055\n",
      "Error after 20000 iterations: 0.01906387253341843\n",
      "Error after 30000 iterations: 0.014764390729581689\n",
      "Error after 40000 iterations: 0.012389242990471299\n",
      "Error after 50000 iterations: 0.010842166973777441\n",
      "Training With Alpha: 1\n",
      "Error after 0 iterations: 0.49643992250078794\n",
      "Error after 10000 iterations: 0.007360522342493725\n",
      "Error after 20000 iterations: 0.004972517050388167\n",
      "Error after 30000 iterations: 0.003968639781590646\n",
      "Error after 40000 iterations: 0.0033864102198316566\n",
      "Error after 50000 iterations: 0.0029962568493224844\n",
      "Training With Alpha: 10\n",
      "Error after 0 iterations: 0.49643992250078794\n",
      "Error after 10000 iterations: 0.002259685068967067\n",
      "Error after 20000 iterations: 0.0015398210409153026\n",
      "Error after 30000 iterations: 0.0012358221194588262\n",
      "Error after 40000 iterations: 0.0010588507854352317\n",
      "Error after 50000 iterations: 0.0009399131614865194\n",
      "Training With Alpha: 100\n",
      "Error after 0 iterations: 0.49643992250078794\n",
      "Error after 10000 iterations: 0.5\n",
      "Error after 20000 iterations: 0.5\n",
      "Error after 30000 iterations: 0.5\n",
      "Error after 40000 iterations: 0.5\n",
      "Error after 50000 iterations: 0.5\n",
      "Training With Alpha: 1000\n",
      "Error after 0 iterations: 0.49643992250078794\n",
      "Error after 10000 iterations: 0.5\n",
      "Error after 20000 iterations: 0.5\n",
      "Error after 30000 iterations: 0.5\n",
      "Error after 40000 iterations: 0.5\n",
      "Error after 50000 iterations: 0.5\n"
     ]
    }
   ],
   "source": [
    "for alpha in alphas:\n",
    "    print('Training With Alpha: {}'.format(alpha))\n",
    "    \n",
    "    # seed random numbers to make calculation\n",
    "    # deterministic\n",
    "    np.random.seed(1)\n",
    "    \n",
    "    # initialize weights randomly with mean 0\n",
    "    synapse_0 = 2 * np.random.random((3, hidden_size)) - 1\n",
    "    synapse_1 = 2 * np.random.random((hidden_size, 1)) - 1\n",
    "    \n",
    "    prev_synapse_0_weight_update = np.zeros_like(synapse_0)\n",
    "    prev_synapse_1_weight_update = np.zeros_like(synapse_1)\n",
    "    \n",
    "    synapse_0_direction_count = np.zeros_like(synapse_0)\n",
    "    synapse_1_direction_count = np.zeros_like(synapse_1)\n",
    "    \n",
    "    for i in range(60000):\n",
    "        # feed forward through layers 0, 1, and 2\n",
    "        layer_0 = X\n",
    "        layer_1 = sigmoid(np.dot(layer_0, synapse_0))\n",
    "        layer_2 = sigmoid(np.dot(layer_1, synapse_1))\n",
    "\n",
    "        # how much did we miss the target value?\n",
    "        layer_2_error = layer_2 - y\n",
    "\n",
    "        if i % 10000 == 0:\n",
    "            print('Error after {} iterations: {}'.format(i, np.mean((np.abs(layer_2_error)))))\n",
    "\n",
    "        # in what direction is the target value?\n",
    "        # were we really sure? if so, don't change too much.\n",
    "        layer_2_delta = layer_2_error * sigmoid(layer_2, deriv=True)\n",
    "\n",
    "        # how much did each l1 value contribute to the l2 error\n",
    "        # according to the weights?\n",
    "        layer_1_error = np.dot(layer_2_delta, synapse_1.T)\n",
    "\n",
    "        # in what direction is the target l1?\n",
    "        # were we really sure? if so, don't change too much.\n",
    "        layer_1_delta = layer_1_error * sigmoid(layer_1, deriv=True)\n",
    "        \n",
    "        synapse_1_weight_update = np.dot(layer_1.T, layer_2_delta)\n",
    "        synapse_0_weight_update = np.dot(layer_0.T, layer_1_delta)\n",
    "        \n",
    "        if i > 0:\n",
    "            synapse_0_direction_count +=  np.abs(\n",
    "                ((synapse_0_weight_update > 0) + 0) - ((prev_synapse_0_weight_update > 0) + 0)\n",
    "            )\n",
    "            synapse_1_direction_count += np.abs(\n",
    "                ((synapse_1_weight_update > 0) + 0) - ((prev_synapse_1_weight_update > 0) + 0)\n",
    "            )\n",
    "        \n",
    "        # update weights\n",
    "        synapse_1 -= alpha * synapse_1_weight_update\n",
    "        synapse_0 -= alpha * synapse_0_weight_update\n",
    "        \n",
    "        prev_synapse_0_weight_update = synapse_0_weight_update\n",
    "        prev_synapse_1_weight_update = synapse_1_weight_update\n",
    "        \n",
    "#     print(\"Synapse 0\")\n",
    "#     print(synapse_0)\n",
    " \n",
    "#     print(\"Synapse 0 Update Direction Changes\")\n",
    "#     print(synapse_0_direction_count)\n",
    "\n",
    "#     print(\"Synapse 1\")\n",
    "#     print(synapse_1)\n",
    "\n",
    "#     print(\"Synapse 1 Update Direction Changes\")\n",
    "#     print(synapse_1_direction_count)"
   ]
  },
  {
   "cell_type": "code",
   "execution_count": 117,
   "metadata": {},
   "outputs": [
    {
     "name": "stdout",
     "output_type": "stream",
     "text": [
      "[[  3.54024944e-224]\n",
      " [  3.83747236e-220]\n",
      " [  8.69021153e-217]\n",
      " [  4.80857044e-215]]\n"
     ]
    }
   ],
   "source": [
    "print(layer_2)"
   ]
  },
  {
   "cell_type": "code",
   "execution_count": null,
   "metadata": {},
   "outputs": [],
   "source": []
  }
 ],
 "metadata": {
  "kernelspec": {
   "display_name": "Python 3",
   "language": "python",
   "name": "python3"
  },
  "language_info": {
   "codemirror_mode": {
    "name": "ipython",
    "version": 3
   },
   "file_extension": ".py",
   "mimetype": "text/x-python",
   "name": "python",
   "nbconvert_exporter": "python",
   "pygments_lexer": "ipython3",
   "version": "3.5.0"
  }
 },
 "nbformat": 4,
 "nbformat_minor": 2
}
